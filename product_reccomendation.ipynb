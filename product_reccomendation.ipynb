{
  "cells": [
    {
      "cell_type": "code",
      "execution_count": 1,
      "metadata": {},
      "outputs": [
        {
          "name": "stderr",
          "output_type": "stream",
          "text": [
            "c:\\Users\\Vito Muhammad N\\AppData\\Local\\Programs\\Python\\Python311\\Lib\\site-packages\\google\\cloud\\bigquery\\table.py:1727: UserWarning: BigQuery Storage module not found, fetch data with the REST endpoint instead.\n",
            "  warnings.warn(\n"
          ]
        },
        {
          "data": {
            "text/html": [
              "<div>\n",
              "<style scoped>\n",
              "    .dataframe tbody tr th:only-of-type {\n",
              "        vertical-align: middle;\n",
              "    }\n",
              "\n",
              "    .dataframe tbody tr th {\n",
              "        vertical-align: top;\n",
              "    }\n",
              "\n",
              "    .dataframe thead th {\n",
              "        text-align: right;\n",
              "    }\n",
              "</style>\n",
              "<table border=\"1\" class=\"dataframe\">\n",
              "  <thead>\n",
              "    <tr style=\"text-align: right;\">\n",
              "      <th></th>\n",
              "      <th>product_category</th>\n",
              "      <th>product_name</th>\n",
              "      <th>product_brand</th>\n",
              "      <th>product_department</th>\n",
              "    </tr>\n",
              "  </thead>\n",
              "  <tbody>\n",
              "    <tr>\n",
              "      <th>0</th>\n",
              "      <td>Accessories</td>\n",
              "      <td>(ONE) 1 Satin Headband</td>\n",
              "      <td>Funny Girl Designs</td>\n",
              "      <td>Women</td>\n",
              "    </tr>\n",
              "    <tr>\n",
              "      <th>1</th>\n",
              "      <td>Accessories</td>\n",
              "      <td>(One) CHEER Rhinestone Studded Stretch Headband</td>\n",
              "      <td>Funny Girl Designs</td>\n",
              "      <td>Women</td>\n",
              "    </tr>\n",
              "    <tr>\n",
              "      <th>2</th>\n",
              "      <td>Accessories</td>\n",
              "      <td>(Set of 3) Leopard Animal Print Stretch Headband</td>\n",
              "      <td>Funny Girl Designs</td>\n",
              "      <td>Women</td>\n",
              "    </tr>\n",
              "    <tr>\n",
              "      <th>3</th>\n",
              "      <td>Accessories</td>\n",
              "      <td>(Set of 4) 2.5 Glitter Cotton Stretch Headbands</td>\n",
              "      <td>Funny Girl Designs</td>\n",
              "      <td>Women</td>\n",
              "    </tr>\n",
              "    <tr>\n",
              "      <th>4</th>\n",
              "      <td>Accessories</td>\n",
              "      <td>1 1/2 In. Original Perry Suspenders</td>\n",
              "      <td>Perry</td>\n",
              "      <td>Men</td>\n",
              "    </tr>\n",
              "    <tr>\n",
              "      <th>...</th>\n",
              "      <td>...</td>\n",
              "      <td>...</td>\n",
              "      <td>...</td>\n",
              "      <td>...</td>\n",
              "    </tr>\n",
              "    <tr>\n",
              "      <th>28514</th>\n",
              "      <td>Underwear</td>\n",
              "      <td>ck one Men's Cotton Stretch Trunk</td>\n",
              "      <td>Calvin Klein</td>\n",
              "      <td>Men</td>\n",
              "    </tr>\n",
              "    <tr>\n",
              "      <th>28515</th>\n",
              "      <td>Underwear</td>\n",
              "      <td>ck one Men's Micro Boxer Brief</td>\n",
              "      <td>Calvin Klein</td>\n",
              "      <td>Men</td>\n",
              "    </tr>\n",
              "    <tr>\n",
              "      <th>28516</th>\n",
              "      <td>Underwear</td>\n",
              "      <td>ck one Men's Micro Hip Brief</td>\n",
              "      <td>Calvin Klein</td>\n",
              "      <td>Men</td>\n",
              "    </tr>\n",
              "    <tr>\n",
              "      <th>28517</th>\n",
              "      <td>Underwear</td>\n",
              "      <td>ck one Men's Micro Low Rise Trunk</td>\n",
              "      <td>Calvin Klein</td>\n",
              "      <td>Men</td>\n",
              "    </tr>\n",
              "    <tr>\n",
              "      <th>28518</th>\n",
              "      <td>Underwear</td>\n",
              "      <td>ck one Men's Micro Slim Fit Boxer</td>\n",
              "      <td>Calvin Klein</td>\n",
              "      <td>Men</td>\n",
              "    </tr>\n",
              "  </tbody>\n",
              "</table>\n",
              "<p>28519 rows × 4 columns</p>\n",
              "</div>"
            ],
            "text/plain": [
              "      product_category                                      product_name   \n",
              "0          Accessories                            (ONE) 1 Satin Headband  \\\n",
              "1          Accessories   (One) CHEER Rhinestone Studded Stretch Headband   \n",
              "2          Accessories  (Set of 3) Leopard Animal Print Stretch Headband   \n",
              "3          Accessories   (Set of 4) 2.5 Glitter Cotton Stretch Headbands   \n",
              "4          Accessories               1 1/2 In. Original Perry Suspenders   \n",
              "...                ...                                               ...   \n",
              "28514        Underwear                 ck one Men's Cotton Stretch Trunk   \n",
              "28515        Underwear                    ck one Men's Micro Boxer Brief   \n",
              "28516        Underwear                      ck one Men's Micro Hip Brief   \n",
              "28517        Underwear                 ck one Men's Micro Low Rise Trunk   \n",
              "28518        Underwear                 ck one Men's Micro Slim Fit Boxer   \n",
              "\n",
              "            product_brand product_department  \n",
              "0      Funny Girl Designs              Women  \n",
              "1      Funny Girl Designs              Women  \n",
              "2      Funny Girl Designs              Women  \n",
              "3      Funny Girl Designs              Women  \n",
              "4                   Perry                Men  \n",
              "...                   ...                ...  \n",
              "28514        Calvin Klein                Men  \n",
              "28515        Calvin Klein                Men  \n",
              "28516        Calvin Klein                Men  \n",
              "28517        Calvin Klein                Men  \n",
              "28518        Calvin Klein                Men  \n",
              "\n",
              "[28519 rows x 4 columns]"
            ]
          },
          "execution_count": 1,
          "metadata": {},
          "output_type": "execute_result"
        }
      ],
      "source": [
        "import pandas as pd\n",
        "from google.oauth2 import service_account\n",
        "from google.cloud import bigquery\n",
        "\n",
        "# Replace with the path to your service account key file\n",
        "key_path = \"your_jason_here.json\"\n",
        "\n",
        "# Authenticate using the service account key\n",
        "credentials = service_account.Credentials.from_service_account_file(key_path)\n",
        "\n",
        "# Create a BigQuery client\n",
        "client = bigquery.Client(credentials=credentials, project=credentials.project_id)\n",
        "\n",
        "# Buat query SQL\n",
        "query = \"\"\"\n",
        "with product_recommendation as(\n",
        "SELECT\n",
        "ori.*,\n",
        "inv.* except(product_id, id, created_at)\n",
        "FROM bigquery-public-data.thelook_ecommerce.order_items ori\n",
        "join bigquery-public-data.thelook_ecommerce.inventory_items inv\n",
        "on ori.inventory_item_id = inv.id),\n",
        "test as(\n",
        "select order_id, user_id, product_id, created_at, inventory_item_id,\n",
        "sale_price, product_category, product_name, product_brand, product_department, status, sale_price from product_recommendation\n",
        "where status != 'Cancelled')\n",
        "\n",
        "SELECT DISTINCT product_category, product_name, product_brand, product_department\n",
        "FROM product_recommendation;\n",
        "\"\"\"\n",
        "\n",
        "# Run the query and convert the results to a DataFrame\n",
        "query_job = client.query(query)\n",
        "df = query_job.to_dataframe()\n",
        "\n",
        "df\n"
      ]
    },
    {
      "cell_type": "markdown",
      "metadata": {
        "id": "6SbZlHE4pnce"
      },
      "source": [
        "## EDA"
      ]
    },
    {
      "cell_type": "code",
      "execution_count": 2,
      "metadata": {
        "id": "BJ_CvTABppkm"
      },
      "outputs": [],
      "source": [
        "import matplotlib.pyplot as plt\n",
        "import seaborn as sns"
      ]
    },
    {
      "cell_type": "code",
      "execution_count": 3,
      "metadata": {
        "colab": {
          "base_uri": "https://localhost:8080/",
          "height": 125
        },
        "id": "o25ATf0BHjmg",
        "outputId": "a378441b-f65d-4e12-c205-490fb8827f6f"
      },
      "outputs": [
        {
          "data": {
            "text/html": [
              "<div>\n",
              "<style scoped>\n",
              "    .dataframe tbody tr th:only-of-type {\n",
              "        vertical-align: middle;\n",
              "    }\n",
              "\n",
              "    .dataframe tbody tr th {\n",
              "        vertical-align: top;\n",
              "    }\n",
              "\n",
              "    .dataframe thead th {\n",
              "        text-align: right;\n",
              "    }\n",
              "</style>\n",
              "<table border=\"1\" class=\"dataframe\">\n",
              "  <thead>\n",
              "    <tr style=\"text-align: right;\">\n",
              "      <th></th>\n",
              "      <th>gender</th>\n",
              "      <th>total_product</th>\n",
              "    </tr>\n",
              "  </thead>\n",
              "  <tbody>\n",
              "    <tr>\n",
              "      <th>1</th>\n",
              "      <td>Women</td>\n",
              "      <td>15724</td>\n",
              "    </tr>\n",
              "    <tr>\n",
              "      <th>0</th>\n",
              "      <td>Men</td>\n",
              "      <td>12795</td>\n",
              "    </tr>\n",
              "  </tbody>\n",
              "</table>\n",
              "</div>"
            ],
            "text/plain": [
              "  gender  total_product\n",
              "1  Women          15724\n",
              "0    Men          12795"
            ]
          },
          "execution_count": 3,
          "metadata": {},
          "output_type": "execute_result"
        }
      ],
      "source": [
        "product_gender = df.groupby('product_department').size().reset_index(name='count').sort_values(by='count', ascending=False).rename(columns={'count': 'total_product','product_department':'gender'})\n",
        "product_gender"
      ]
    },
    {
      "cell_type": "code",
      "execution_count": 4,
      "metadata": {
        "colab": {
          "base_uri": "https://localhost:8080/",
          "height": 125
        },
        "id": "TuBwHZujNwX9",
        "outputId": "4e9a25f7-5725-42b1-945c-c6783a2da60c"
      },
      "outputs": [
        {
          "data": {
            "text/html": [
              "<div>\n",
              "<style scoped>\n",
              "    .dataframe tbody tr th:only-of-type {\n",
              "        vertical-align: middle;\n",
              "    }\n",
              "\n",
              "    .dataframe tbody tr th {\n",
              "        vertical-align: top;\n",
              "    }\n",
              "\n",
              "    .dataframe thead th {\n",
              "        text-align: right;\n",
              "    }\n",
              "</style>\n",
              "<table border=\"1\" class=\"dataframe\">\n",
              "  <thead>\n",
              "    <tr style=\"text-align: right;\">\n",
              "      <th></th>\n",
              "      <th>gender</th>\n",
              "      <th>total_product</th>\n",
              "      <th>percentage</th>\n",
              "    </tr>\n",
              "  </thead>\n",
              "  <tbody>\n",
              "    <tr>\n",
              "      <th>1</th>\n",
              "      <td>Women</td>\n",
              "      <td>15724</td>\n",
              "      <td>55.135173</td>\n",
              "    </tr>\n",
              "    <tr>\n",
              "      <th>0</th>\n",
              "      <td>Men</td>\n",
              "      <td>12795</td>\n",
              "      <td>44.864827</td>\n",
              "    </tr>\n",
              "  </tbody>\n",
              "</table>\n",
              "</div>"
            ],
            "text/plain": [
              "  gender  total_product  percentage\n",
              "1  Women          15724   55.135173\n",
              "0    Men          12795   44.864827"
            ]
          },
          "execution_count": 4,
          "metadata": {},
          "output_type": "execute_result"
        }
      ],
      "source": [
        "total_products = product_gender['total_product'].sum()\n",
        "product_gender['percentage'] = (product_gender['total_product'] / total_products) * 100\n",
        "product_gender"
      ]
    },
    {
      "cell_type": "code",
      "execution_count": 5,
      "metadata": {
        "id": "t3IFxhAQM5wH"
      },
      "outputs": [],
      "source": [
        "sum_lk = product_gender[product_gender['gender']=='Men']['total_product'].values[0]\n",
        "sum_wm = product_gender[product_gender['gender']=='Women']['total_product'].values[0]\n",
        "percent_lk = product_gender[product_gender['gender']=='Men']['percentage'].values[0]\n",
        "percent_wm = product_gender[product_gender['gender']=='Women']['percentage'].values[0]"
      ]
    },
    {
      "cell_type": "code",
      "execution_count": 6,
      "metadata": {
        "colab": {
          "base_uri": "https://localhost:8080/",
          "height": 445
        },
        "id": "PCCTi5aWHuxc",
        "outputId": "58e1bfd9-83f2-4014-8af2-c83e45430a38"
      },
      "outputs": [
        {
          "data": {
            "text/plain": [
              "Text(0.5, 1.0, 'Total Product by Gender')"
            ]
          },
          "execution_count": 6,
          "metadata": {},
          "output_type": "execute_result"
        },
        {
          "data": {
            "image/png": "[encoded data removed]",
            "text/plain": [
              "<Figure size 640x480 with 1 Axes>"
            ]
          },
          "metadata": {},
          "output_type": "display_data"
        }
      ],
      "source": [
        "plt.pie(product_gender['total_product'], labels=product_gender['gender'],startangle=90, counterclock=False,explode=[0.1,0.0]\n",
        "        ,autopct='%.f%%', colors=['red','green'])\n",
        "plt.title('Total Product by Gender')"
      ]
    },
    {
      "cell_type": "code",
      "execution_count": 7,
      "metadata": {
        "colab": {
          "base_uri": "https://localhost:8080/"
        },
        "id": "VXUVnWW3LiD5",
        "outputId": "dbf9d30d-0dcc-437c-e45c-11a7c0225455"
      },
      "outputs": [
        {
          "name": "stdout",
          "output_type": "stream",
          "text": [
            "Total produk E-Commerce berdasarkan gender di dominasi oleh perempuan dengan total produk sebanyak 15724 atau sebanyak 55.14% dari total produk\n"
          ]
        }
      ],
      "source": [
        "print(f\"Total produk E-Commerce berdasarkan gender di dominasi oleh perempuan dengan total produk sebanyak {sum_wm} atau sebanyak {percent_wm:.2f}% dari total produk\")"
      ]
    },
    {
      "cell_type": "code",
      "execution_count": 8,
      "metadata": {
        "colab": {
          "base_uri": "https://localhost:8080/",
          "height": 864
        },
        "id": "vx5Iv3cQqKDv",
        "outputId": "ea5730e3-e67f-4b21-fced-de73f952edcb"
      },
      "outputs": [
        {
          "data": {
            "text/html": [
              "<div>\n",
              "<style scoped>\n",
              "    .dataframe tbody tr th:only-of-type {\n",
              "        vertical-align: middle;\n",
              "    }\n",
              "\n",
              "    .dataframe tbody tr th {\n",
              "        vertical-align: top;\n",
              "    }\n",
              "\n",
              "    .dataframe thead th {\n",
              "        text-align: right;\n",
              "    }\n",
              "</style>\n",
              "<table border=\"1\" class=\"dataframe\">\n",
              "  <thead>\n",
              "    <tr style=\"text-align: right;\">\n",
              "      <th></th>\n",
              "      <th>index</th>\n",
              "      <th>product_category</th>\n",
              "      <th>total_product</th>\n",
              "    </tr>\n",
              "  </thead>\n",
              "  <tbody>\n",
              "    <tr>\n",
              "      <th>0</th>\n",
              "      <td>6</td>\n",
              "      <td>Intimates</td>\n",
              "      <td>2336</td>\n",
              "    </tr>\n",
              "    <tr>\n",
              "      <th>1</th>\n",
              "      <td>24</td>\n",
              "      <td>Tops &amp; Tees</td>\n",
              "      <td>1846</td>\n",
              "    </tr>\n",
              "    <tr>\n",
              "      <th>2</th>\n",
              "      <td>5</td>\n",
              "      <td>Fashion Hoodies &amp; Sweatshirts</td>\n",
              "      <td>1841</td>\n",
              "    </tr>\n",
              "    <tr>\n",
              "      <th>3</th>\n",
              "      <td>7</td>\n",
              "      <td>Jeans</td>\n",
              "      <td>1825</td>\n",
              "    </tr>\n",
              "    <tr>\n",
              "      <th>4</th>\n",
              "      <td>23</td>\n",
              "      <td>Swim</td>\n",
              "      <td>1775</td>\n",
              "    </tr>\n",
              "    <tr>\n",
              "      <th>5</th>\n",
              "      <td>15</td>\n",
              "      <td>Shorts</td>\n",
              "      <td>1727</td>\n",
              "    </tr>\n",
              "    <tr>\n",
              "      <th>6</th>\n",
              "      <td>17</td>\n",
              "      <td>Sleep &amp; Lounge</td>\n",
              "      <td>1719</td>\n",
              "    </tr>\n",
              "    <tr>\n",
              "      <th>7</th>\n",
              "      <td>22</td>\n",
              "      <td>Sweaters</td>\n",
              "      <td>1716</td>\n",
              "    </tr>\n",
              "    <tr>\n",
              "      <th>8</th>\n",
              "      <td>0</td>\n",
              "      <td>Accessories</td>\n",
              "      <td>1551</td>\n",
              "    </tr>\n",
              "    <tr>\n",
              "      <th>9</th>\n",
              "      <td>1</td>\n",
              "      <td>Active</td>\n",
              "      <td>1420</td>\n",
              "    </tr>\n",
              "    <tr>\n",
              "      <th>10</th>\n",
              "      <td>11</td>\n",
              "      <td>Outerwear &amp; Coats</td>\n",
              "      <td>1410</td>\n",
              "    </tr>\n",
              "    <tr>\n",
              "      <th>11</th>\n",
              "      <td>25</td>\n",
              "      <td>Underwear</td>\n",
              "      <td>1047</td>\n",
              "    </tr>\n",
              "    <tr>\n",
              "      <th>12</th>\n",
              "      <td>12</td>\n",
              "      <td>Pants</td>\n",
              "      <td>1017</td>\n",
              "    </tr>\n",
              "    <tr>\n",
              "      <th>13</th>\n",
              "      <td>4</td>\n",
              "      <td>Dresses</td>\n",
              "      <td>928</td>\n",
              "    </tr>\n",
              "    <tr>\n",
              "      <th>14</th>\n",
              "      <td>18</td>\n",
              "      <td>Socks</td>\n",
              "      <td>895</td>\n",
              "    </tr>\n",
              "    <tr>\n",
              "      <th>15</th>\n",
              "      <td>10</td>\n",
              "      <td>Maternity</td>\n",
              "      <td>868</td>\n",
              "    </tr>\n",
              "    <tr>\n",
              "      <th>16</th>\n",
              "      <td>14</td>\n",
              "      <td>Plus</td>\n",
              "      <td>752</td>\n",
              "    </tr>\n",
              "    <tr>\n",
              "      <th>17</th>\n",
              "      <td>21</td>\n",
              "      <td>Suits &amp; Sport Coats</td>\n",
              "      <td>732</td>\n",
              "    </tr>\n",
              "    <tr>\n",
              "      <th>18</th>\n",
              "      <td>19</td>\n",
              "      <td>Socks &amp; Hosiery</td>\n",
              "      <td>663</td>\n",
              "    </tr>\n",
              "    <tr>\n",
              "      <th>19</th>\n",
              "      <td>13</td>\n",
              "      <td>Pants &amp; Capris</td>\n",
              "      <td>595</td>\n",
              "    </tr>\n",
              "    <tr>\n",
              "      <th>20</th>\n",
              "      <td>9</td>\n",
              "      <td>Leggings</td>\n",
              "      <td>560</td>\n",
              "    </tr>\n",
              "    <tr>\n",
              "      <th>21</th>\n",
              "      <td>2</td>\n",
              "      <td>Blazers &amp; Jackets</td>\n",
              "      <td>548</td>\n",
              "    </tr>\n",
              "    <tr>\n",
              "      <th>22</th>\n",
              "      <td>16</td>\n",
              "      <td>Skirts</td>\n",
              "      <td>363</td>\n",
              "    </tr>\n",
              "    <tr>\n",
              "      <th>23</th>\n",
              "      <td>20</td>\n",
              "      <td>Suits</td>\n",
              "      <td>186</td>\n",
              "    </tr>\n",
              "    <tr>\n",
              "      <th>24</th>\n",
              "      <td>8</td>\n",
              "      <td>Jumpsuits &amp; Rompers</td>\n",
              "      <td>162</td>\n",
              "    </tr>\n",
              "    <tr>\n",
              "      <th>25</th>\n",
              "      <td>3</td>\n",
              "      <td>Clothing Sets</td>\n",
              "      <td>37</td>\n",
              "    </tr>\n",
              "  </tbody>\n",
              "</table>\n",
              "</div>"
            ],
            "text/plain": [
              "    index               product_category  total_product\n",
              "0       6                      Intimates           2336\n",
              "1      24                    Tops & Tees           1846\n",
              "2       5  Fashion Hoodies & Sweatshirts           1841\n",
              "3       7                          Jeans           1825\n",
              "4      23                           Swim           1775\n",
              "5      15                         Shorts           1727\n",
              "6      17                 Sleep & Lounge           1719\n",
              "7      22                       Sweaters           1716\n",
              "8       0                    Accessories           1551\n",
              "9       1                         Active           1420\n",
              "10     11              Outerwear & Coats           1410\n",
              "11     25                      Underwear           1047\n",
              "12     12                          Pants           1017\n",
              "13      4                        Dresses            928\n",
              "14     18                          Socks            895\n",
              "15     10                      Maternity            868\n",
              "16     14                           Plus            752\n",
              "17     21            Suits & Sport Coats            732\n",
              "18     19                Socks & Hosiery            663\n",
              "19     13                 Pants & Capris            595\n",
              "20      9                       Leggings            560\n",
              "21      2              Blazers & Jackets            548\n",
              "22     16                         Skirts            363\n",
              "23     20                          Suits            186\n",
              "24      8            Jumpsuits & Rompers            162\n",
              "25      3                  Clothing Sets             37"
            ]
          },
          "execution_count": 8,
          "metadata": {},
          "output_type": "execute_result"
        }
      ],
      "source": [
        "product_category = df.groupby('product_category').size().reset_index(name='count').sort_values(by='count', ascending=False).rename(columns={'count': 'total_product'}).reset_index()\n",
        "product_category"
      ]
    },
    {
      "cell_type": "code",
      "execution_count": 9,
      "metadata": {
        "id": "MoMexTkyHsxJ"
      },
      "outputs": [],
      "source": [
        "jumlah_kategori = len(product_category.index)\n",
        "top_3_categories = product_category.head(3)['product_category'].tolist()\n",
        "top_3_categories_str = ', '.join(top_3_categories)"
      ]
    },
    {
      "cell_type": "code",
      "execution_count": 10,
      "metadata": {
        "colab": {
          "base_uri": "https://localhost:8080/",
          "height": 626
        },
        "id": "fFyjG2Jdqura",
        "outputId": "98f38974-ffd5-4d17-af4c-0ac2108c3639"
      },
      "outputs": [
        {
          "data": {
            "text/plain": [
              "Text(0.5, 1.0, 'Top 10 of Product Category  listings')"
            ]
          },
          "execution_count": 10,
          "metadata": {},
          "output_type": "execute_result"
        },
        {
          "data": {
            "image/png": "[encoded data removed]",
            "text/plain": [
              "<Figure size 1000x500 with 1 Axes>"
            ]
          },
          "metadata": {},
          "output_type": "display_data"
        }
      ],
      "source": [
        "plt.figure(figsize = (10,5))\n",
        "clrs = ['grey' if (x < max(product_category.total_product)) else 'red' for x in product_category.total_product ]\n",
        "ax = sns.barplot(data=product_category.head(10),y='product_category',x='total_product',palette=\n",
        "                 clrs)\n",
        "for p in ax.patches:\n",
        "    ax.annotate(\"%.0f Products\" % p.get_width(), xy=(p.get_width(), p.get_y()+p.get_height()/2),\n",
        "            xytext=(-70, 0), textcoords='offset points', ha=\"left\", va=\"center\", color = 'white')\n",
        "plt.title('Top 10 of Product Category  listings')"
      ]
    },
    {
      "cell_type": "code",
      "execution_count": 11,
      "metadata": {
        "colab": {
          "base_uri": "https://localhost:8080/"
        },
        "id": "fahIZHT7Km6F",
        "outputId": "68f8aad5-3efe-4d13-e265-3a52f11a430a"
      },
      "outputs": [
        {
          "name": "stdout",
          "output_type": "stream",
          "text": [
            "E-Commerce menjual barang dengan membagi produk menjadi 26 kategori,\n",
            " dimana 3 kategori teringgi berdasarkan jumlah produk yang listing pada E-Commerce yaitu jatuh pada kategori:\n",
            " Intimates, Tops & Tees, Fashion Hoodies & Sweatshirts.\n"
          ]
        }
      ],
      "source": [
        "# Print the message with a line break\n",
        "print(f\"E-Commerce menjual barang dengan membagi produk menjadi {jumlah_kategori} kategori,\\n dimana 3 kategori teringgi berdasarkan jumlah produk yang listing pada E-Commerce yaitu jatuh pada kategori:\\n {top_3_categories_str}.\")"
      ]
    },
    {
      "cell_type": "code",
      "execution_count": 12,
      "metadata": {
        "colab": {
          "base_uri": "https://localhost:8080/",
          "height": 423
        },
        "id": "Bdlx9IwLrm9H",
        "outputId": "4ee615a3-ba4d-4f42-a971-609fa0c9d8a1"
      },
      "outputs": [
        {
          "data": {
            "text/html": [
              "<div>\n",
              "<style scoped>\n",
              "    .dataframe tbody tr th:only-of-type {\n",
              "        vertical-align: middle;\n",
              "    }\n",
              "\n",
              "    .dataframe tbody tr th {\n",
              "        vertical-align: top;\n",
              "    }\n",
              "\n",
              "    .dataframe thead th {\n",
              "        text-align: right;\n",
              "    }\n",
              "</style>\n",
              "<table border=\"1\" class=\"dataframe\">\n",
              "  <thead>\n",
              "    <tr style=\"text-align: right;\">\n",
              "      <th></th>\n",
              "      <th>index</th>\n",
              "      <th>product_brand</th>\n",
              "      <th>total_product</th>\n",
              "    </tr>\n",
              "  </thead>\n",
              "  <tbody>\n",
              "    <tr>\n",
              "      <th>0</th>\n",
              "      <td>97</td>\n",
              "      <td>Allegra K</td>\n",
              "      <td>1033</td>\n",
              "    </tr>\n",
              "    <tr>\n",
              "      <th>1</th>\n",
              "      <td>448</td>\n",
              "      <td>Calvin Klein</td>\n",
              "      <td>483</td>\n",
              "    </tr>\n",
              "    <tr>\n",
              "      <th>2</th>\n",
              "      <td>466</td>\n",
              "      <td>Carhartt</td>\n",
              "      <td>384</td>\n",
              "    </tr>\n",
              "    <tr>\n",
              "      <th>3</th>\n",
              "      <td>1082</td>\n",
              "      <td>Hanes</td>\n",
              "      <td>301</td>\n",
              "    </tr>\n",
              "    <tr>\n",
              "      <th>4</th>\n",
              "      <td>2587</td>\n",
              "      <td>Volcom</td>\n",
              "      <td>275</td>\n",
              "    </tr>\n",
              "    <tr>\n",
              "      <th>...</th>\n",
              "      <td>...</td>\n",
              "      <td>...</td>\n",
              "      <td>...</td>\n",
              "    </tr>\n",
              "    <tr>\n",
              "      <th>2751</th>\n",
              "      <td>944</td>\n",
              "      <td>Fredricks of Hollywood</td>\n",
              "      <td>1</td>\n",
              "    </tr>\n",
              "    <tr>\n",
              "      <th>2752</th>\n",
              "      <td>2015</td>\n",
              "      <td>Rival</td>\n",
              "      <td>1</td>\n",
              "    </tr>\n",
              "    <tr>\n",
              "      <th>2753</th>\n",
              "      <td>939</td>\n",
              "      <td>Fratelli</td>\n",
              "      <td>1</td>\n",
              "    </tr>\n",
              "    <tr>\n",
              "      <th>2754</th>\n",
              "      <td>2018</td>\n",
              "      <td>Rivet De Cru Jeans</td>\n",
              "      <td>1</td>\n",
              "    </tr>\n",
              "    <tr>\n",
              "      <th>2755</th>\n",
              "      <td>2755</td>\n",
              "      <td>wear ease</td>\n",
              "      <td>1</td>\n",
              "    </tr>\n",
              "  </tbody>\n",
              "</table>\n",
              "<p>2756 rows × 3 columns</p>\n",
              "</div>"
            ],
            "text/plain": [
              "      index           product_brand  total_product\n",
              "0        97               Allegra K           1033\n",
              "1       448            Calvin Klein            483\n",
              "2       466                Carhartt            384\n",
              "3      1082                   Hanes            301\n",
              "4      2587                  Volcom            275\n",
              "...     ...                     ...            ...\n",
              "2751    944  Fredricks of Hollywood              1\n",
              "2752   2015                   Rival              1\n",
              "2753    939                Fratelli              1\n",
              "2754   2018      Rivet De Cru Jeans              1\n",
              "2755   2755               wear ease              1\n",
              "\n",
              "[2756 rows x 3 columns]"
            ]
          },
          "execution_count": 12,
          "metadata": {},
          "output_type": "execute_result"
        }
      ],
      "source": [
        "product_brand = df.groupby('product_brand').size().reset_index(name='count').sort_values(by='count', ascending=False).rename(columns={'count': 'total_product'}).reset_index()\n",
        "product_brand"
      ]
    },
    {
      "cell_type": "code",
      "execution_count": 13,
      "metadata": {
        "colab": {
          "base_uri": "https://localhost:8080/",
          "height": 626
        },
        "id": "oqihqzYkHDC1",
        "outputId": "4cf30e93-a73c-4407-8be8-6b5031ce2c9f"
      },
      "outputs": [
        {
          "data": {
            "text/plain": [
              "Text(0.5, 1.0, 'Top 10 of Total Product Brand listings')"
            ]
          },
          "execution_count": 13,
          "metadata": {},
          "output_type": "execute_result"
        },
        {
          "data": {
            "image/png": "[encoded data removed]",
            "text/plain": [
              "<Figure size 1000x500 with 1 Axes>"
            ]
          },
          "metadata": {},
          "output_type": "display_data"
        }
      ],
      "source": [
        "plt.figure(figsize = (10,5))\n",
        "clrs = ['grey' if (x < max(product_brand.total_product)) else 'red' for x in product_brand.total_product ]\n",
        "ax = sns.barplot(data=product_brand.head(10),y='product_brand',x='total_product',palette=\n",
        "                 clrs)\n",
        "for p in ax.patches:\n",
        "    ax.annotate(\"%.0f Products\" % p.get_width(), xy=(p.get_width(), p.get_y()+p.get_height()/2),\n",
        "            xytext=(-70, 0), textcoords='offset points', ha=\"left\", va=\"center\", color = 'white')\n",
        "plt.title('Top 10 of Total Product Brand listings')"
      ]
    },
    {
      "cell_type": "code",
      "execution_count": 14,
      "metadata": {
        "id": "DjGPFNrKVp70"
      },
      "outputs": [],
      "source": [
        "jumlah_brand = len(product_brand.index)\n",
        "top_3_brand = product_brand.head(3)['product_brand'].tolist()\n",
        "top_3_brand_str = ', '.join(top_3_brand)"
      ]
    },
    {
      "cell_type": "code",
      "execution_count": 15,
      "metadata": {
        "colab": {
          "base_uri": "https://localhost:8080/"
        },
        "id": "XZ2RbxR7V29L",
        "outputId": "443041b3-95a9-48d1-b298-ffb9f28fbdcd"
      },
      "outputs": [
        {
          "name": "stdout",
          "output_type": "stream",
          "text": [
            "E-Commerce menjual produk sebanyak 2756 brand ,\n",
            " dimana 3 brad terbanyak pada E-Commerce yaitu adalah:\n",
            " Allegra K, Calvin Klein, Carhartt.\n"
          ]
        }
      ],
      "source": [
        "# Print the message with a line break\n",
        "print(f\"E-Commerce menjual produk sebanyak {jumlah_brand} brand ,\\n dimana 3 brad terbanyak pada E-Commerce yaitu adalah:\\n {top_3_brand_str}.\")"
      ]
    },
    {
      "cell_type": "code",
      "execution_count": 16,
      "metadata": {
        "colab": {
          "base_uri": "https://localhost:8080/"
        },
        "id": "NaApKhkCc_Q9",
        "outputId": "5896c936-b171-4e0e-ac28-f4bd177bf7b1"
      },
      "outputs": [
        {
          "data": {
            "text/plain": [
              "0"
            ]
          },
          "execution_count": 16,
          "metadata": {},
          "output_type": "execute_result"
        }
      ],
      "source": [
        "df.duplicated().sum()"
      ]
    },
    {
      "cell_type": "markdown",
      "metadata": {
        "id": "BF8HQZYRaSKH"
      },
      "source": [
        "# Preprocessing part 1"
      ]
    },
    {
      "cell_type": "markdown",
      "metadata": {
        "id": "4WJt4nkvX0rQ"
      },
      "source": [
        "Tahap pertama:\n",
        "1. to_lower: Mengubah teks menjadi huruf kecil. Tujuan: Menyamakan format teks tanpa memperhatikan huruf kapital.\n",
        "2. remove_contraction: Menghilangkan singkatan atau kontraksi. Tujuan: Mengubah singkatan seperti \"nggak\" menjadi \"tidak\" agar lebih mudah dianalisis.\n",
        "3. remove_number: Menghapus angka dari teks. Tujuan: Membersihkan teks dari angka yang tidak relevan.\n",
        "4. remove_punctuation: Menghapus tanda baca.Tujuan: Mengurangi gangguan dari tanda baca dalam analisis teks.\n",
        "5. remove_stopwords: Menghapus kata-kata umum (stopwords) seperti \"dan\", \"atau\" .Tujuan: Fokus pada kata-kata yang lebih penting dalam analisis.\n",
        "6. remove_whitespace: Menghapus spasi berlebih. Tujuan: Merapikan teks agar tidak ada spasi yang tidak perlu."
      ]
    },
    {
      "cell_type": "code",
      "execution_count": 17,
      "metadata": {
        "colab": {
          "base_uri": "https://localhost:8080/"
        },
        "id": "ryQFZ_L1VMBY",
        "outputId": "4b0a3fb7-5d62-4a12-fd33-15196e9ddea1"
      },
      "outputs": [
        {
          "name": "stderr",
          "output_type": "stream",
          "text": [
            "[nltk_data] Downloading package stopwords to C:\\Users\\Vito Muhammad\n",
            "[nltk_data]     N\\AppData\\Roaming\\nltk_data...\n",
            "[nltk_data]   Package stopwords is already up-to-date!\n",
            "[nltk_data] Downloading package punkt to C:\\Users\\Vito Muhammad\n",
            "[nltk_data]     N\\AppData\\Roaming\\nltk_data...\n",
            "[nltk_data]   Package punkt is already up-to-date!\n"
          ]
        }
      ],
      "source": [
        "def to_lower(text):\n",
        "    return text.lower()\n",
        "\n",
        "product_abbreviation_dict = {\n",
        "    # Sleep & Lounge\n",
        "    \"pjs\": \"pajamas\",\n",
        "    \"sleepwear\": \"sleep outfit\",\n",
        "    \"nightgown\": \"night dress\",\n",
        "    \"nightshirt\": \"sleep shirt\",\n",
        "    \"loungewear\": \"lounge outfit\",\n",
        "    \"robe\": \"bathrobe\",\n",
        "    \"slippers\": \"house slippers\",\n",
        "    \"sleep pants\": \"sleeping pants\",\n",
        "    \"sleep tee\": \"sleeping t-shirt\",\n",
        "    \"sweatpants\": \"joggers\",\n",
        "    \"sleep shorts\": \"sleeping shorts\",\n",
        "\n",
        "    # Socks\n",
        "    \"socks\": \"foot socks\",\n",
        "    \"ankle socks\": \"low-cut socks\",\n",
        "    \"crew socks\": \"mid-calf socks\",\n",
        "    \"no-show socks\": \"hidden socks\",\n",
        "    \"knee-high socks\": \"knee-length socks\",\n",
        "    \"compression socks\": \"pressure socks\",\n",
        "\n",
        "    # Socks & Hosiery\n",
        "    \"hosiery\": \"legwear\",\n",
        "    \"stockings\": \"leg stockings\",\n",
        "    \"tights\": \"full-length tights\",\n",
        "    \"leggings\": \"footless tights\",\n",
        "    \"pantyhose\": \"sheer tights\",\n",
        "    \"thigh-high\": \"thigh-high stockings\",\n",
        "\n",
        "    # Suits\n",
        "    \"suit\": \"formal suit\",\n",
        "    \"blzr\": \"blazer\",\n",
        "    \"vest\": \"waistcoat\",\n",
        "    \"tux\": \"tuxedo\",\n",
        "    \"suit jacket\": \"formal jacket\",\n",
        "    \"dress pants\": \"formal pants\",\n",
        "    \"trouser\": \"suit trousers\",\n",
        "    \"tailcoat\": \"formal tailcoat\",\n",
        "\n",
        "    # Suits & Sport Coats\n",
        "    \"sport coat\": \"sports jacket\",\n",
        "    \"casual blazer\": \"informal blazer\",\n",
        "    \"double-breasted\": \"double-breasted jacket\",\n",
        "    \"single-breasted\": \"single-breasted jacket\",\n",
        "    \"dinner jacket\": \"evening jacket\",\n",
        "\n",
        "    # Sweaters\n",
        "    \"sweater\": \"knit sweater\",\n",
        "    \"turtleneck\": \"turtleneck sweater\",\n",
        "    \"cardi\": \"cardigan\",\n",
        "    \"pullover\": \"pullover sweater\",\n",
        "    \"crewneck\": \"crewneck sweater\",\n",
        "    \"v-neck\": \"v-neck sweater\",\n",
        "    \"sweatshirt\": \"casual sweater\",\n",
        "\n",
        "    # Swim\n",
        "    \"swim trunks\": \"swimming shorts\",\n",
        "    \"bikini\": \"two-piece swimsuit\",\n",
        "    \"one-piece\": \"one-piece swimsuit\",\n",
        "    \"swim top\": \"bikini top\",\n",
        "    \"board shorts\": \"surfing shorts\",\n",
        "    \"rashguard\": \"swim shirt\",\n",
        "    \"tankini\": \"tank top swimsuit\",\n",
        "\n",
        "    # Tops & Tees\n",
        "    \"tee\": \"t-shirt\",\n",
        "    \"polo\": \"polo shirt\",\n",
        "    \"blouse\": \"casual top\",\n",
        "    \"tank top\": \"sleeveless top\",\n",
        "    \"crop top\": \"cropped t-shirt\",\n",
        "    \"v-neck tee\": \"v-neck t-shirt\",\n",
        "    \"henley\": \"collarless shirt\",\n",
        "    \"button-up\": \"button-up shirt\",\n",
        "    \"long-sleeve tee\": \"long-sleeve t-shirt\",\n",
        "\n",
        "    # Underwear\n",
        "    \"boxers\": \"boxer shorts\",\n",
        "    \"briefs\": \"underwear briefs\",\n",
        "    \"trunks\": \"short briefs\",\n",
        "    \"bikini briefs\": \"low-rise briefs\",\n",
        "    \"boxer briefs\": \"fitted boxer briefs\",\n",
        "    \"thong\": \"thong underwear\",\n",
        "    \"panties\": \"women's underwear\",\n",
        "    \"bralette\": \"light bra\",\n",
        "    \"sports bra\": \"athletic bra\",\n",
        "    \"undershirt\": \"base layer shirt\"\n",
        "}\n",
        "\n",
        "\n",
        "def remove_contraction(text):\n",
        "    list_kata = text.split()\n",
        "    list_hasil = []\n",
        "\n",
        "    for kata in list_kata:\n",
        "        if kata in product_abbreviation_dict.keys():\n",
        "            list_hasil.append(product_abbreviation_dict[kata])\n",
        "        else:\n",
        "            list_hasil.append(kata)\n",
        "\n",
        "    hasil = ' '.join(list_hasil)\n",
        "    return hasil\n",
        "\n",
        "\n",
        "def remove_number(text):\n",
        "    hasil = ''.join([char for char in text if not char.isnumeric()])\n",
        "    return hasil\n",
        "\n",
        "from string import punctuation\n",
        "def remove_punctuation(text):\n",
        "    hasil = ''.join([char for char in text if not char in punctuation])\n",
        "    return hasil\n",
        "\n",
        "\n",
        "import nltk\n",
        "from nltk.corpus import stopwords\n",
        "\n",
        "nltk.download('stopwords')\n",
        "nltk.download('punkt')\n",
        "\n",
        "stop_words = stopwords.words('english')\n",
        "def remove_stopwords(text):\n",
        "    hasil = ' '.join([kata for kata in text.split() if kata not in stop_words])\n",
        "    return hasil\n",
        "\n",
        "def remove_whitespace(text):\n",
        "    hasil = ' '.join(text.split())\n",
        "    return hasil"
      ]
    },
    {
      "cell_type": "code",
      "execution_count": 18,
      "metadata": {
        "id": "OJsCPzVCaHr9"
      },
      "outputs": [],
      "source": [
        "def combine_cleaning(series):\n",
        "    df['text_clean'] = series.apply(to_lower)\n",
        "    df['text_clean'] = df['text_clean'].apply(remove_contraction)\n",
        "    df['text_clean'] = df['text_clean'].apply(remove_number)\n",
        "    df['text_clean'] = df['text_clean'].apply(remove_punctuation)\n",
        "    df['text_clean'] = df['text_clean'].apply(remove_stopwords)\n",
        "    df['text_clean'] = df['text_clean'].apply(remove_whitespace)\n",
        "    return df"
      ]
    },
    {
      "cell_type": "code",
      "execution_count": 19,
      "metadata": {
        "colab": {
          "base_uri": "https://localhost:8080/",
          "height": 527
        },
        "id": "lhdyH8eMU8tW",
        "outputId": "807abbab-54b8-4dc6-92f6-c014edd2c340"
      },
      "outputs": [
        {
          "data": {
            "text/html": [
              "<div>\n",
              "<style scoped>\n",
              "    .dataframe tbody tr th:only-of-type {\n",
              "        vertical-align: middle;\n",
              "    }\n",
              "\n",
              "    .dataframe tbody tr th {\n",
              "        vertical-align: top;\n",
              "    }\n",
              "\n",
              "    .dataframe thead th {\n",
              "        text-align: right;\n",
              "    }\n",
              "</style>\n",
              "<table border=\"1\" class=\"dataframe\">\n",
              "  <thead>\n",
              "    <tr style=\"text-align: right;\">\n",
              "      <th></th>\n",
              "      <th>product_category</th>\n",
              "      <th>product_name</th>\n",
              "      <th>product_brand</th>\n",
              "      <th>product_department</th>\n",
              "      <th>gabungan</th>\n",
              "    </tr>\n",
              "  </thead>\n",
              "  <tbody>\n",
              "    <tr>\n",
              "      <th>0</th>\n",
              "      <td>Accessories</td>\n",
              "      <td>(ONE) 1 Satin Headband</td>\n",
              "      <td>Funny Girl Designs</td>\n",
              "      <td>Women</td>\n",
              "      <td>Accessories(ONE) 1 Satin HeadbandFunny Girl De...</td>\n",
              "    </tr>\n",
              "    <tr>\n",
              "      <th>1</th>\n",
              "      <td>Accessories</td>\n",
              "      <td>(One) CHEER Rhinestone Studded Stretch Headband</td>\n",
              "      <td>Funny Girl Designs</td>\n",
              "      <td>Women</td>\n",
              "      <td>Accessories(One) CHEER Rhinestone Studded Stre...</td>\n",
              "    </tr>\n",
              "    <tr>\n",
              "      <th>2</th>\n",
              "      <td>Accessories</td>\n",
              "      <td>(Set of 3) Leopard Animal Print Stretch Headband</td>\n",
              "      <td>Funny Girl Designs</td>\n",
              "      <td>Women</td>\n",
              "      <td>Accessories(Set of 3) Leopard Animal Print Str...</td>\n",
              "    </tr>\n",
              "    <tr>\n",
              "      <th>3</th>\n",
              "      <td>Accessories</td>\n",
              "      <td>(Set of 4) 2.5 Glitter Cotton Stretch Headbands</td>\n",
              "      <td>Funny Girl Designs</td>\n",
              "      <td>Women</td>\n",
              "      <td>Accessories(Set of 4) 2.5 Glitter Cotton Stret...</td>\n",
              "    </tr>\n",
              "    <tr>\n",
              "      <th>4</th>\n",
              "      <td>Accessories</td>\n",
              "      <td>1 1/2 In. Original Perry Suspenders</td>\n",
              "      <td>Perry</td>\n",
              "      <td>Men</td>\n",
              "      <td>Accessories1 1/2 In. Original Perry Suspenders...</td>\n",
              "    </tr>\n",
              "    <tr>\n",
              "      <th>...</th>\n",
              "      <td>...</td>\n",
              "      <td>...</td>\n",
              "      <td>...</td>\n",
              "      <td>...</td>\n",
              "      <td>...</td>\n",
              "    </tr>\n",
              "    <tr>\n",
              "      <th>28514</th>\n",
              "      <td>Underwear</td>\n",
              "      <td>ck one Men's Cotton Stretch Trunk</td>\n",
              "      <td>Calvin Klein</td>\n",
              "      <td>Men</td>\n",
              "      <td>Underwearck one Men's Cotton Stretch TrunkCalv...</td>\n",
              "    </tr>\n",
              "    <tr>\n",
              "      <th>28515</th>\n",
              "      <td>Underwear</td>\n",
              "      <td>ck one Men's Micro Boxer Brief</td>\n",
              "      <td>Calvin Klein</td>\n",
              "      <td>Men</td>\n",
              "      <td>Underwearck one Men's Micro Boxer BriefCalvin ...</td>\n",
              "    </tr>\n",
              "    <tr>\n",
              "      <th>28516</th>\n",
              "      <td>Underwear</td>\n",
              "      <td>ck one Men's Micro Hip Brief</td>\n",
              "      <td>Calvin Klein</td>\n",
              "      <td>Men</td>\n",
              "      <td>Underwearck one Men's Micro Hip BriefCalvin Kl...</td>\n",
              "    </tr>\n",
              "    <tr>\n",
              "      <th>28517</th>\n",
              "      <td>Underwear</td>\n",
              "      <td>ck one Men's Micro Low Rise Trunk</td>\n",
              "      <td>Calvin Klein</td>\n",
              "      <td>Men</td>\n",
              "      <td>Underwearck one Men's Micro Low Rise TrunkCalv...</td>\n",
              "    </tr>\n",
              "    <tr>\n",
              "      <th>28518</th>\n",
              "      <td>Underwear</td>\n",
              "      <td>ck one Men's Micro Slim Fit Boxer</td>\n",
              "      <td>Calvin Klein</td>\n",
              "      <td>Men</td>\n",
              "      <td>Underwearck one Men's Micro Slim Fit BoxerCalv...</td>\n",
              "    </tr>\n",
              "  </tbody>\n",
              "</table>\n",
              "<p>28519 rows × 5 columns</p>\n",
              "</div>"
            ],
            "text/plain": [
              "      product_category                                      product_name   \n",
              "0          Accessories                            (ONE) 1 Satin Headband  \\\n",
              "1          Accessories   (One) CHEER Rhinestone Studded Stretch Headband   \n",
              "2          Accessories  (Set of 3) Leopard Animal Print Stretch Headband   \n",
              "3          Accessories   (Set of 4) 2.5 Glitter Cotton Stretch Headbands   \n",
              "4          Accessories               1 1/2 In. Original Perry Suspenders   \n",
              "...                ...                                               ...   \n",
              "28514        Underwear                 ck one Men's Cotton Stretch Trunk   \n",
              "28515        Underwear                    ck one Men's Micro Boxer Brief   \n",
              "28516        Underwear                      ck one Men's Micro Hip Brief   \n",
              "28517        Underwear                 ck one Men's Micro Low Rise Trunk   \n",
              "28518        Underwear                 ck one Men's Micro Slim Fit Boxer   \n",
              "\n",
              "            product_brand product_department   \n",
              "0      Funny Girl Designs              Women  \\\n",
              "1      Funny Girl Designs              Women   \n",
              "2      Funny Girl Designs              Women   \n",
              "3      Funny Girl Designs              Women   \n",
              "4                   Perry                Men   \n",
              "...                   ...                ...   \n",
              "28514        Calvin Klein                Men   \n",
              "28515        Calvin Klein                Men   \n",
              "28516        Calvin Klein                Men   \n",
              "28517        Calvin Klein                Men   \n",
              "28518        Calvin Klein                Men   \n",
              "\n",
              "                                                gabungan  \n",
              "0      Accessories(ONE) 1 Satin HeadbandFunny Girl De...  \n",
              "1      Accessories(One) CHEER Rhinestone Studded Stre...  \n",
              "2      Accessories(Set of 3) Leopard Animal Print Str...  \n",
              "3      Accessories(Set of 4) 2.5 Glitter Cotton Stret...  \n",
              "4      Accessories1 1/2 In. Original Perry Suspenders...  \n",
              "...                                                  ...  \n",
              "28514  Underwearck one Men's Cotton Stretch TrunkCalv...  \n",
              "28515  Underwearck one Men's Micro Boxer BriefCalvin ...  \n",
              "28516  Underwearck one Men's Micro Hip BriefCalvin Kl...  \n",
              "28517  Underwearck one Men's Micro Low Rise TrunkCalv...  \n",
              "28518  Underwearck one Men's Micro Slim Fit BoxerCalv...  \n",
              "\n",
              "[28519 rows x 5 columns]"
            ]
          },
          "execution_count": 19,
          "metadata": {},
          "output_type": "execute_result"
        }
      ],
      "source": [
        "df['gabungan'] = df['product_category'] + df['product_name'] + df['product_brand']+df['product_department']\n",
        "df"
      ]
    },
    {
      "cell_type": "code",
      "execution_count": 20,
      "metadata": {
        "colab": {
          "base_uri": "https://localhost:8080/",
          "height": 1000
        },
        "id": "vdxU1tLoaL_O",
        "outputId": "5560bddf-994e-4e69-d337-c8847dace8de"
      },
      "outputs": [
        {
          "data": {
            "text/html": [
              "<div>\n",
              "<style scoped>\n",
              "    .dataframe tbody tr th:only-of-type {\n",
              "        vertical-align: middle;\n",
              "    }\n",
              "\n",
              "    .dataframe tbody tr th {\n",
              "        vertical-align: top;\n",
              "    }\n",
              "\n",
              "    .dataframe thead th {\n",
              "        text-align: right;\n",
              "    }\n",
              "</style>\n",
              "<table border=\"1\" class=\"dataframe\">\n",
              "  <thead>\n",
              "    <tr style=\"text-align: right;\">\n",
              "      <th></th>\n",
              "      <th>product_category</th>\n",
              "      <th>product_name</th>\n",
              "      <th>product_brand</th>\n",
              "      <th>product_department</th>\n",
              "      <th>gabungan</th>\n",
              "      <th>text_clean</th>\n",
              "    </tr>\n",
              "  </thead>\n",
              "  <tbody>\n",
              "    <tr>\n",
              "      <th>0</th>\n",
              "      <td>Accessories</td>\n",
              "      <td>(ONE) 1 Satin Headband</td>\n",
              "      <td>Funny Girl Designs</td>\n",
              "      <td>Women</td>\n",
              "      <td>Accessories(ONE) 1 Satin HeadbandFunny Girl De...</td>\n",
              "      <td>accessoriesone satin headbandfunny girl design...</td>\n",
              "    </tr>\n",
              "    <tr>\n",
              "      <th>1</th>\n",
              "      <td>Accessories</td>\n",
              "      <td>(One) CHEER Rhinestone Studded Stretch Headband</td>\n",
              "      <td>Funny Girl Designs</td>\n",
              "      <td>Women</td>\n",
              "      <td>Accessories(One) CHEER Rhinestone Studded Stre...</td>\n",
              "      <td>accessoriesone cheer rhinestone studded stretc...</td>\n",
              "    </tr>\n",
              "    <tr>\n",
              "      <th>2</th>\n",
              "      <td>Accessories</td>\n",
              "      <td>(Set of 3) Leopard Animal Print Stretch Headband</td>\n",
              "      <td>Funny Girl Designs</td>\n",
              "      <td>Women</td>\n",
              "      <td>Accessories(Set of 3) Leopard Animal Print Str...</td>\n",
              "      <td>accessoriesset leopard animal print stretch he...</td>\n",
              "    </tr>\n",
              "    <tr>\n",
              "      <th>3</th>\n",
              "      <td>Accessories</td>\n",
              "      <td>(Set of 4) 2.5 Glitter Cotton Stretch Headbands</td>\n",
              "      <td>Funny Girl Designs</td>\n",
              "      <td>Women</td>\n",
              "      <td>Accessories(Set of 4) 2.5 Glitter Cotton Stret...</td>\n",
              "      <td>accessoriesset glitter cotton stretch headband...</td>\n",
              "    </tr>\n",
              "    <tr>\n",
              "      <th>4</th>\n",
              "      <td>Accessories</td>\n",
              "      <td>1 1/2 In. Original Perry Suspenders</td>\n",
              "      <td>Perry</td>\n",
              "      <td>Men</td>\n",
              "      <td>Accessories1 1/2 In. Original Perry Suspenders...</td>\n",
              "      <td>accessories original perry suspendersperrymen</td>\n",
              "    </tr>\n",
              "    <tr>\n",
              "      <th>...</th>\n",
              "      <td>...</td>\n",
              "      <td>...</td>\n",
              "      <td>...</td>\n",
              "      <td>...</td>\n",
              "      <td>...</td>\n",
              "      <td>...</td>\n",
              "    </tr>\n",
              "    <tr>\n",
              "      <th>28514</th>\n",
              "      <td>Underwear</td>\n",
              "      <td>ck one Men's Cotton Stretch Trunk</td>\n",
              "      <td>Calvin Klein</td>\n",
              "      <td>Men</td>\n",
              "      <td>Underwearck one Men's Cotton Stretch TrunkCalv...</td>\n",
              "      <td>underwearck one mens cotton stretch trunkcalvi...</td>\n",
              "    </tr>\n",
              "    <tr>\n",
              "      <th>28515</th>\n",
              "      <td>Underwear</td>\n",
              "      <td>ck one Men's Micro Boxer Brief</td>\n",
              "      <td>Calvin Klein</td>\n",
              "      <td>Men</td>\n",
              "      <td>Underwearck one Men's Micro Boxer BriefCalvin ...</td>\n",
              "      <td>underwearck one mens micro boxer briefcalvin k...</td>\n",
              "    </tr>\n",
              "    <tr>\n",
              "      <th>28516</th>\n",
              "      <td>Underwear</td>\n",
              "      <td>ck one Men's Micro Hip Brief</td>\n",
              "      <td>Calvin Klein</td>\n",
              "      <td>Men</td>\n",
              "      <td>Underwearck one Men's Micro Hip BriefCalvin Kl...</td>\n",
              "      <td>underwearck one mens micro hip briefcalvin kle...</td>\n",
              "    </tr>\n",
              "    <tr>\n",
              "      <th>28517</th>\n",
              "      <td>Underwear</td>\n",
              "      <td>ck one Men's Micro Low Rise Trunk</td>\n",
              "      <td>Calvin Klein</td>\n",
              "      <td>Men</td>\n",
              "      <td>Underwearck one Men's Micro Low Rise TrunkCalv...</td>\n",
              "      <td>underwearck one mens micro low rise trunkcalvi...</td>\n",
              "    </tr>\n",
              "    <tr>\n",
              "      <th>28518</th>\n",
              "      <td>Underwear</td>\n",
              "      <td>ck one Men's Micro Slim Fit Boxer</td>\n",
              "      <td>Calvin Klein</td>\n",
              "      <td>Men</td>\n",
              "      <td>Underwearck one Men's Micro Slim Fit BoxerCalv...</td>\n",
              "      <td>underwearck one mens micro slim fit boxercalvi...</td>\n",
              "    </tr>\n",
              "  </tbody>\n",
              "</table>\n",
              "<p>28519 rows × 6 columns</p>\n",
              "</div>"
            ],
            "text/plain": [
              "      product_category                                      product_name   \n",
              "0          Accessories                            (ONE) 1 Satin Headband  \\\n",
              "1          Accessories   (One) CHEER Rhinestone Studded Stretch Headband   \n",
              "2          Accessories  (Set of 3) Leopard Animal Print Stretch Headband   \n",
              "3          Accessories   (Set of 4) 2.5 Glitter Cotton Stretch Headbands   \n",
              "4          Accessories               1 1/2 In. Original Perry Suspenders   \n",
              "...                ...                                               ...   \n",
              "28514        Underwear                 ck one Men's Cotton Stretch Trunk   \n",
              "28515        Underwear                    ck one Men's Micro Boxer Brief   \n",
              "28516        Underwear                      ck one Men's Micro Hip Brief   \n",
              "28517        Underwear                 ck one Men's Micro Low Rise Trunk   \n",
              "28518        Underwear                 ck one Men's Micro Slim Fit Boxer   \n",
              "\n",
              "            product_brand product_department   \n",
              "0      Funny Girl Designs              Women  \\\n",
              "1      Funny Girl Designs              Women   \n",
              "2      Funny Girl Designs              Women   \n",
              "3      Funny Girl Designs              Women   \n",
              "4                   Perry                Men   \n",
              "...                   ...                ...   \n",
              "28514        Calvin Klein                Men   \n",
              "28515        Calvin Klein                Men   \n",
              "28516        Calvin Klein                Men   \n",
              "28517        Calvin Klein                Men   \n",
              "28518        Calvin Klein                Men   \n",
              "\n",
              "                                                gabungan   \n",
              "0      Accessories(ONE) 1 Satin HeadbandFunny Girl De...  \\\n",
              "1      Accessories(One) CHEER Rhinestone Studded Stre...   \n",
              "2      Accessories(Set of 3) Leopard Animal Print Str...   \n",
              "3      Accessories(Set of 4) 2.5 Glitter Cotton Stret...   \n",
              "4      Accessories1 1/2 In. Original Perry Suspenders...   \n",
              "...                                                  ...   \n",
              "28514  Underwearck one Men's Cotton Stretch TrunkCalv...   \n",
              "28515  Underwearck one Men's Micro Boxer BriefCalvin ...   \n",
              "28516  Underwearck one Men's Micro Hip BriefCalvin Kl...   \n",
              "28517  Underwearck one Men's Micro Low Rise TrunkCalv...   \n",
              "28518  Underwearck one Men's Micro Slim Fit BoxerCalv...   \n",
              "\n",
              "                                              text_clean  \n",
              "0      accessoriesone satin headbandfunny girl design...  \n",
              "1      accessoriesone cheer rhinestone studded stretc...  \n",
              "2      accessoriesset leopard animal print stretch he...  \n",
              "3      accessoriesset glitter cotton stretch headband...  \n",
              "4          accessories original perry suspendersperrymen  \n",
              "...                                                  ...  \n",
              "28514  underwearck one mens cotton stretch trunkcalvi...  \n",
              "28515  underwearck one mens micro boxer briefcalvin k...  \n",
              "28516  underwearck one mens micro hip briefcalvin kle...  \n",
              "28517  underwearck one mens micro low rise trunkcalvi...  \n",
              "28518  underwearck one mens micro slim fit boxercalvi...  \n",
              "\n",
              "[28519 rows x 6 columns]"
            ]
          },
          "execution_count": 20,
          "metadata": {},
          "output_type": "execute_result"
        }
      ],
      "source": [
        "combine_cleaning(df['gabungan'])"
      ]
    },
    {
      "cell_type": "markdown",
      "metadata": {
        "id": "CXDsxQHZakK7"
      },
      "source": [
        "# Preprocessing part 2"
      ]
    },
    {
      "cell_type": "markdown",
      "metadata": {
        "id": "QdBQWDB3YbOl"
      },
      "source": [
        "1. stem(text): Mengubah kata-kata dalam teks menjadi bentuk dasar menggunakan stemming (mengabaikan tata bahasa). Tujuan: Menyederhanakan kata-kata, misalnya \"running\" jadi \"run\".\n",
        "2. lemmatize(text): Mengubah kata-kata dalam teks menjadi bentuk lematiknya yang benar secara tata bahasa. Tujuan: Mendapatkan bentuk kata dasar yang valid, misalnya \"better\" jadi \"good\"."
      ]
    },
    {
      "cell_type": "code",
      "execution_count": 21,
      "metadata": {
        "colab": {
          "base_uri": "https://localhost:8080/"
        },
        "id": "bYaxjT3xaUoL",
        "outputId": "46ec8b84-eeb6-4d4a-9be0-9b9940a77bd6"
      },
      "outputs": [
        {
          "name": "stderr",
          "output_type": "stream",
          "text": [
            "[nltk_data] Downloading package wordnet to C:\\Users\\Vito Muhammad\n",
            "[nltk_data]     N\\AppData\\Roaming\\nltk_data...\n",
            "[nltk_data]   Package wordnet is already up-to-date!\n"
          ]
        },
        {
          "data": {
            "text/plain": [
              "True"
            ]
          },
          "execution_count": 21,
          "metadata": {},
          "output_type": "execute_result"
        }
      ],
      "source": [
        "from nltk.stem import SnowballStemmer, WordNetLemmatizer\n",
        "nltk.download('wordnet')"
      ]
    },
    {
      "cell_type": "code",
      "execution_count": 22,
      "metadata": {
        "id": "ebr1W6SqanUm"
      },
      "outputs": [],
      "source": [
        "stemmer = SnowballStemmer('english')\n",
        "\n",
        "def stem(text):\n",
        "\n",
        "    list_hasil = []\n",
        "\n",
        "    for sentence in nltk.sent_tokenize(text):   # pecah paragraf menjadi kalimat-kalimat\n",
        "        for word in nltk.word_tokenize(sentence): # pecah kalimat menjadi kata-kata\n",
        "            list_hasil.append(stemmer.stem(word))   # ubah kata ke kata dasarnya\n",
        "\n",
        "    hasil = ' '.join(list_hasil)\n",
        "    return hasil\n",
        "\n",
        "lemmatizer = WordNetLemmatizer()\n",
        "\n",
        "def lemmatize(text):\n",
        "\n",
        "    list_hasil = []\n",
        "\n",
        "    for sentence in nltk.sent_tokenize(text):   # pecah paragraf menjadi kalimat-kalimat\n",
        "        for word in nltk.word_tokenize(sentence): # pecah kalimat menjadi kata-kata\n",
        "            list_hasil.append(lemmatizer.lemmatize(word))   # ubah kata ke kata dasarnya\n",
        "\n",
        "    hasil = ' '.join(list_hasil)\n",
        "    return hasil"
      ]
    },
    {
      "cell_type": "code",
      "execution_count": 23,
      "metadata": {
        "colab": {
          "base_uri": "https://localhost:8080/",
          "height": 944
        },
        "id": "iJqp9BYDaps7",
        "outputId": "61741bcf-43a5-4650-bb6d-5ab62b7ad80c"
      },
      "outputs": [
        {
          "data": {
            "text/html": [
              "<div>\n",
              "<style scoped>\n",
              "    .dataframe tbody tr th:only-of-type {\n",
              "        vertical-align: middle;\n",
              "    }\n",
              "\n",
              "    .dataframe tbody tr th {\n",
              "        vertical-align: top;\n",
              "    }\n",
              "\n",
              "    .dataframe thead th {\n",
              "        text-align: right;\n",
              "    }\n",
              "</style>\n",
              "<table border=\"1\" class=\"dataframe\">\n",
              "  <thead>\n",
              "    <tr style=\"text-align: right;\">\n",
              "      <th></th>\n",
              "      <th>product_category</th>\n",
              "      <th>product_name</th>\n",
              "      <th>product_brand</th>\n",
              "      <th>product_department</th>\n",
              "      <th>gabungan</th>\n",
              "      <th>text_clean</th>\n",
              "      <th>stem</th>\n",
              "      <th>lemmatize</th>\n",
              "    </tr>\n",
              "  </thead>\n",
              "  <tbody>\n",
              "    <tr>\n",
              "      <th>0</th>\n",
              "      <td>Accessories</td>\n",
              "      <td>(ONE) 1 Satin Headband</td>\n",
              "      <td>Funny Girl Designs</td>\n",
              "      <td>Women</td>\n",
              "      <td>Accessories(ONE) 1 Satin HeadbandFunny Girl De...</td>\n",
              "      <td>accessoriesone satin headbandfunny girl design...</td>\n",
              "      <td>accessorieson satin headbandfunni girl designs...</td>\n",
              "      <td>accessoriesone satin headbandfunny girl design...</td>\n",
              "    </tr>\n",
              "    <tr>\n",
              "      <th>1</th>\n",
              "      <td>Accessories</td>\n",
              "      <td>(One) CHEER Rhinestone Studded Stretch Headband</td>\n",
              "      <td>Funny Girl Designs</td>\n",
              "      <td>Women</td>\n",
              "      <td>Accessories(One) CHEER Rhinestone Studded Stre...</td>\n",
              "      <td>accessoriesone cheer rhinestone studded stretc...</td>\n",
              "      <td>accessorieson cheer rhineston stud stretch hea...</td>\n",
              "      <td>accessoriesone cheer rhinestone studded stretc...</td>\n",
              "    </tr>\n",
              "    <tr>\n",
              "      <th>2</th>\n",
              "      <td>Accessories</td>\n",
              "      <td>(Set of 3) Leopard Animal Print Stretch Headband</td>\n",
              "      <td>Funny Girl Designs</td>\n",
              "      <td>Women</td>\n",
              "      <td>Accessories(Set of 3) Leopard Animal Print Str...</td>\n",
              "      <td>accessoriesset leopard animal print stretch he...</td>\n",
              "      <td>accessoriesset leopard anim print stretch head...</td>\n",
              "      <td>accessoriesset leopard animal print stretch he...</td>\n",
              "    </tr>\n",
              "    <tr>\n",
              "      <th>3</th>\n",
              "      <td>Accessories</td>\n",
              "      <td>(Set of 4) 2.5 Glitter Cotton Stretch Headbands</td>\n",
              "      <td>Funny Girl Designs</td>\n",
              "      <td>Women</td>\n",
              "      <td>Accessories(Set of 4) 2.5 Glitter Cotton Stret...</td>\n",
              "      <td>accessoriesset glitter cotton stretch headband...</td>\n",
              "      <td>accessoriesset glitter cotton stretch headband...</td>\n",
              "      <td>accessoriesset glitter cotton stretch headband...</td>\n",
              "    </tr>\n",
              "    <tr>\n",
              "      <th>4</th>\n",
              "      <td>Accessories</td>\n",
              "      <td>1 1/2 In. Original Perry Suspenders</td>\n",
              "      <td>Perry</td>\n",
              "      <td>Men</td>\n",
              "      <td>Accessories1 1/2 In. Original Perry Suspenders...</td>\n",
              "      <td>accessories original perry suspendersperrymen</td>\n",
              "      <td>accessori origin perri suspendersperrymen</td>\n",
              "      <td>accessory original perry suspendersperrymen</td>\n",
              "    </tr>\n",
              "    <tr>\n",
              "      <th>...</th>\n",
              "      <td>...</td>\n",
              "      <td>...</td>\n",
              "      <td>...</td>\n",
              "      <td>...</td>\n",
              "      <td>...</td>\n",
              "      <td>...</td>\n",
              "      <td>...</td>\n",
              "      <td>...</td>\n",
              "    </tr>\n",
              "    <tr>\n",
              "      <th>28514</th>\n",
              "      <td>Underwear</td>\n",
              "      <td>ck one Men's Cotton Stretch Trunk</td>\n",
              "      <td>Calvin Klein</td>\n",
              "      <td>Men</td>\n",
              "      <td>Underwearck one Men's Cotton Stretch TrunkCalv...</td>\n",
              "      <td>underwearck one mens cotton stretch trunkcalvi...</td>\n",
              "      <td>underwearck one men cotton stretch trunkcalvin...</td>\n",
              "      <td>underwearck one men cotton stretch trunkcalvin...</td>\n",
              "    </tr>\n",
              "    <tr>\n",
              "      <th>28515</th>\n",
              "      <td>Underwear</td>\n",
              "      <td>ck one Men's Micro Boxer Brief</td>\n",
              "      <td>Calvin Klein</td>\n",
              "      <td>Men</td>\n",
              "      <td>Underwearck one Men's Micro Boxer BriefCalvin ...</td>\n",
              "      <td>underwearck one mens micro boxer briefcalvin k...</td>\n",
              "      <td>underwearck one men micro boxer briefcalvin kl...</td>\n",
              "      <td>underwearck one men micro boxer briefcalvin kl...</td>\n",
              "    </tr>\n",
              "    <tr>\n",
              "      <th>28516</th>\n",
              "      <td>Underwear</td>\n",
              "      <td>ck one Men's Micro Hip Brief</td>\n",
              "      <td>Calvin Klein</td>\n",
              "      <td>Men</td>\n",
              "      <td>Underwearck one Men's Micro Hip BriefCalvin Kl...</td>\n",
              "      <td>underwearck one mens micro hip briefcalvin kle...</td>\n",
              "      <td>underwearck one men micro hip briefcalvin klei...</td>\n",
              "      <td>underwearck one men micro hip briefcalvin klei...</td>\n",
              "    </tr>\n",
              "    <tr>\n",
              "      <th>28517</th>\n",
              "      <td>Underwear</td>\n",
              "      <td>ck one Men's Micro Low Rise Trunk</td>\n",
              "      <td>Calvin Klein</td>\n",
              "      <td>Men</td>\n",
              "      <td>Underwearck one Men's Micro Low Rise TrunkCalv...</td>\n",
              "      <td>underwearck one mens micro low rise trunkcalvi...</td>\n",
              "      <td>underwearck one men micro low rise trunkcalvin...</td>\n",
              "      <td>underwearck one men micro low rise trunkcalvin...</td>\n",
              "    </tr>\n",
              "    <tr>\n",
              "      <th>28518</th>\n",
              "      <td>Underwear</td>\n",
              "      <td>ck one Men's Micro Slim Fit Boxer</td>\n",
              "      <td>Calvin Klein</td>\n",
              "      <td>Men</td>\n",
              "      <td>Underwearck one Men's Micro Slim Fit BoxerCalv...</td>\n",
              "      <td>underwearck one mens micro slim fit boxercalvi...</td>\n",
              "      <td>underwearck one men micro slim fit boxercalvin...</td>\n",
              "      <td>underwearck one men micro slim fit boxercalvin...</td>\n",
              "    </tr>\n",
              "  </tbody>\n",
              "</table>\n",
              "<p>28519 rows × 8 columns</p>\n",
              "</div>"
            ],
            "text/plain": [
              "      product_category                                      product_name   \n",
              "0          Accessories                            (ONE) 1 Satin Headband  \\\n",
              "1          Accessories   (One) CHEER Rhinestone Studded Stretch Headband   \n",
              "2          Accessories  (Set of 3) Leopard Animal Print Stretch Headband   \n",
              "3          Accessories   (Set of 4) 2.5 Glitter Cotton Stretch Headbands   \n",
              "4          Accessories               1 1/2 In. Original Perry Suspenders   \n",
              "...                ...                                               ...   \n",
              "28514        Underwear                 ck one Men's Cotton Stretch Trunk   \n",
              "28515        Underwear                    ck one Men's Micro Boxer Brief   \n",
              "28516        Underwear                      ck one Men's Micro Hip Brief   \n",
              "28517        Underwear                 ck one Men's Micro Low Rise Trunk   \n",
              "28518        Underwear                 ck one Men's Micro Slim Fit Boxer   \n",
              "\n",
              "            product_brand product_department   \n",
              "0      Funny Girl Designs              Women  \\\n",
              "1      Funny Girl Designs              Women   \n",
              "2      Funny Girl Designs              Women   \n",
              "3      Funny Girl Designs              Women   \n",
              "4                   Perry                Men   \n",
              "...                   ...                ...   \n",
              "28514        Calvin Klein                Men   \n",
              "28515        Calvin Klein                Men   \n",
              "28516        Calvin Klein                Men   \n",
              "28517        Calvin Klein                Men   \n",
              "28518        Calvin Klein                Men   \n",
              "\n",
              "                                                gabungan   \n",
              "0      Accessories(ONE) 1 Satin HeadbandFunny Girl De...  \\\n",
              "1      Accessories(One) CHEER Rhinestone Studded Stre...   \n",
              "2      Accessories(Set of 3) Leopard Animal Print Str...   \n",
              "3      Accessories(Set of 4) 2.5 Glitter Cotton Stret...   \n",
              "4      Accessories1 1/2 In. Original Perry Suspenders...   \n",
              "...                                                  ...   \n",
              "28514  Underwearck one Men's Cotton Stretch TrunkCalv...   \n",
              "28515  Underwearck one Men's Micro Boxer BriefCalvin ...   \n",
              "28516  Underwearck one Men's Micro Hip BriefCalvin Kl...   \n",
              "28517  Underwearck one Men's Micro Low Rise TrunkCalv...   \n",
              "28518  Underwearck one Men's Micro Slim Fit BoxerCalv...   \n",
              "\n",
              "                                              text_clean   \n",
              "0      accessoriesone satin headbandfunny girl design...  \\\n",
              "1      accessoriesone cheer rhinestone studded stretc...   \n",
              "2      accessoriesset leopard animal print stretch he...   \n",
              "3      accessoriesset glitter cotton stretch headband...   \n",
              "4          accessories original perry suspendersperrymen   \n",
              "...                                                  ...   \n",
              "28514  underwearck one mens cotton stretch trunkcalvi...   \n",
              "28515  underwearck one mens micro boxer briefcalvin k...   \n",
              "28516  underwearck one mens micro hip briefcalvin kle...   \n",
              "28517  underwearck one mens micro low rise trunkcalvi...   \n",
              "28518  underwearck one mens micro slim fit boxercalvi...   \n",
              "\n",
              "                                                    stem   \n",
              "0      accessorieson satin headbandfunni girl designs...  \\\n",
              "1      accessorieson cheer rhineston stud stretch hea...   \n",
              "2      accessoriesset leopard anim print stretch head...   \n",
              "3      accessoriesset glitter cotton stretch headband...   \n",
              "4              accessori origin perri suspendersperrymen   \n",
              "...                                                  ...   \n",
              "28514  underwearck one men cotton stretch trunkcalvin...   \n",
              "28515  underwearck one men micro boxer briefcalvin kl...   \n",
              "28516  underwearck one men micro hip briefcalvin klei...   \n",
              "28517  underwearck one men micro low rise trunkcalvin...   \n",
              "28518  underwearck one men micro slim fit boxercalvin...   \n",
              "\n",
              "                                               lemmatize  \n",
              "0      accessoriesone satin headbandfunny girl design...  \n",
              "1      accessoriesone cheer rhinestone studded stretc...  \n",
              "2      accessoriesset leopard animal print stretch he...  \n",
              "3      accessoriesset glitter cotton stretch headband...  \n",
              "4            accessory original perry suspendersperrymen  \n",
              "...                                                  ...  \n",
              "28514  underwearck one men cotton stretch trunkcalvin...  \n",
              "28515  underwearck one men micro boxer briefcalvin kl...  \n",
              "28516  underwearck one men micro hip briefcalvin klei...  \n",
              "28517  underwearck one men micro low rise trunkcalvin...  \n",
              "28518  underwearck one men micro slim fit boxercalvin...  \n",
              "\n",
              "[28519 rows x 8 columns]"
            ]
          },
          "execution_count": 23,
          "metadata": {},
          "output_type": "execute_result"
        }
      ],
      "source": [
        "df['stem'] = df['text_clean'].apply(stem)\n",
        "df['lemmatize'] = df['text_clean'].apply(lemmatize)\n",
        "\n",
        "df"
      ]
    },
    {
      "cell_type": "markdown",
      "metadata": {
        "id": "xnP-hjDybGBQ"
      },
      "source": [
        "# Preprocessing part 3"
      ]
    },
    {
      "cell_type": "markdown",
      "metadata": {
        "id": "zQwXHbfmYzne"
      },
      "source": [
        "1. TfidfVectorizer: Mengubah teks menjadi representasi vektor berbasis TF-IDF (Term Frequency-Inverse Document Frequency). Tujuan: Mengukur pentingnya kata-kata dalam teks, relatif terhadap seluruh dataset.\n",
        "2. cosine_similarity: Menghitung kesamaan antara dua vektor berdasarkan sudut kosinus. Tujuan: Menentukan seberapa mirip dua teks atau produk berdasarkan konten."
      ]
    },
    {
      "cell_type": "markdown",
      "metadata": {
        "id": "fFAOUebdZcs7"
      },
      "source": [
        "Dipilih Menggunakan TF-IDF (bukan Count Vectorizer) karena lebih efektif untuk analisis recommend:\n",
        "\n",
        "1. Mengurangi Bobot Kata Umum: TF-IDF mengurangi bobot kata-kata yang sering muncul di semua dokumen (misalnya, kata umum seperti \"the\" atau \"and\") yang tidak memberikan banyak informasi.\n",
        "\n",
        "2. Membuat Kata Unik Lebih Penting: Kata yang jarang muncul tapi penting di dokumen tertentu akan memiliki bobot lebih tinggi, membantu dalam menangkap arti spesifik teks.\n",
        "\n",
        "3. Lebih Relevan untuk Similarity: TF-IDF lebih baik dalam mengukur kesamaan antara teks karena fokus pada kata-kata yang benar-benar membedakan dokumen satu dengan yang lain.\n",
        "\n",
        "Sedangkan Count Vectorizer hanya menghitung frekuensi kemunculan kata, tanpa mempertimbangkan kepentingan relatif kata tersebut di seluruh dokumen."
      ]
    },
    {
      "cell_type": "code",
      "execution_count": 24,
      "metadata": {
        "id": "3oB-NDY3arTL"
      },
      "outputs": [],
      "source": [
        "from sklearn.feature_extraction.text import CountVectorizer, TfidfVectorizer"
      ]
    },
    {
      "cell_type": "code",
      "execution_count": 25,
      "metadata": {
        "colab": {
          "base_uri": "https://localhost:8080/"
        },
        "id": "iGAAn9OVbHr_",
        "outputId": "82652d6b-5c22-453e-fdc0-84f9b6caa17b"
      },
      "outputs": [
        {
          "name": "stderr",
          "output_type": "stream",
          "text": [
            "c:\\Users\\Vito Muhammad N\\AppData\\Local\\Programs\\Python\\Python311\\Lib\\site-packages\\sklearn\\feature_extraction\\text.py:528: UserWarning: The parameter 'token_pattern' will not be used since 'tokenizer' is not None'\n",
            "  warnings.warn(\n"
          ]
        }
      ],
      "source": [
        "from nltk.tokenize import word_tokenize\n",
        "tf = TfidfVectorizer(stop_words='english', tokenizer=word_tokenize)\n",
        "tfidf_matrix = tf.fit_transform(df['gabungan'])"
      ]
    },
    {
      "cell_type": "code",
      "execution_count": 26,
      "metadata": {
        "id": "35UuJhbocDbI"
      },
      "outputs": [],
      "source": [
        "from sklearn.metrics.pairwise import cosine_distances\n",
        "from sklearn.metrics.pairwise import cosine_similarity\n",
        "\n",
        "cosine_sim = cosine_similarity(tfidf_matrix, tfidf_matrix)"
      ]
    },
    {
      "cell_type": "markdown",
      "metadata": {
        "id": "aZs7obF_epLg"
      },
      "source": [
        "## 3 Rekomendasi Product"
      ]
    },
    {
      "cell_type": "code",
      "execution_count": 27,
      "metadata": {
        "colab": {
          "base_uri": "https://localhost:8080/",
          "height": 379
        },
        "id": "Kd2JnFYMlDAv",
        "outputId": "37f93c9f-9e54-4824-95a7-8c115e1d9ee4"
      },
      "outputs": [
        {
          "data": {
            "text/html": [
              "<div>\n",
              "<style scoped>\n",
              "    .dataframe tbody tr th:only-of-type {\n",
              "        vertical-align: middle;\n",
              "    }\n",
              "\n",
              "    .dataframe tbody tr th {\n",
              "        vertical-align: top;\n",
              "    }\n",
              "\n",
              "    .dataframe thead th {\n",
              "        text-align: right;\n",
              "    }\n",
              "</style>\n",
              "<table border=\"1\" class=\"dataframe\">\n",
              "  <thead>\n",
              "    <tr style=\"text-align: right;\">\n",
              "      <th></th>\n",
              "      <th>product_category</th>\n",
              "      <th>product_name</th>\n",
              "      <th>product_brand</th>\n",
              "      <th>product_department</th>\n",
              "      <th>gabungan</th>\n",
              "      <th>text_clean</th>\n",
              "      <th>stem</th>\n",
              "      <th>lemmatize</th>\n",
              "    </tr>\n",
              "  </thead>\n",
              "  <tbody>\n",
              "    <tr>\n",
              "      <th>0</th>\n",
              "      <td>Accessories</td>\n",
              "      <td>(ONE) 1 Satin Headband</td>\n",
              "      <td>Funny Girl Designs</td>\n",
              "      <td>Women</td>\n",
              "      <td>Accessories(ONE) 1 Satin HeadbandFunny Girl De...</td>\n",
              "      <td>accessoriesone satin headbandfunny girl design...</td>\n",
              "      <td>accessorieson satin headbandfunni girl designs...</td>\n",
              "      <td>accessoriesone satin headbandfunny girl design...</td>\n",
              "    </tr>\n",
              "    <tr>\n",
              "      <th>1</th>\n",
              "      <td>Accessories</td>\n",
              "      <td>(One) CHEER Rhinestone Studded Stretch Headband</td>\n",
              "      <td>Funny Girl Designs</td>\n",
              "      <td>Women</td>\n",
              "      <td>Accessories(One) CHEER Rhinestone Studded Stre...</td>\n",
              "      <td>accessoriesone cheer rhinestone studded stretc...</td>\n",
              "      <td>accessorieson cheer rhineston stud stretch hea...</td>\n",
              "      <td>accessoriesone cheer rhinestone studded stretc...</td>\n",
              "    </tr>\n",
              "    <tr>\n",
              "      <th>2</th>\n",
              "      <td>Accessories</td>\n",
              "      <td>(Set of 3) Leopard Animal Print Stretch Headband</td>\n",
              "      <td>Funny Girl Designs</td>\n",
              "      <td>Women</td>\n",
              "      <td>Accessories(Set of 3) Leopard Animal Print Str...</td>\n",
              "      <td>accessoriesset leopard animal print stretch he...</td>\n",
              "      <td>accessoriesset leopard anim print stretch head...</td>\n",
              "      <td>accessoriesset leopard animal print stretch he...</td>\n",
              "    </tr>\n",
              "    <tr>\n",
              "      <th>3</th>\n",
              "      <td>Accessories</td>\n",
              "      <td>(Set of 4) 2.5 Glitter Cotton Stretch Headbands</td>\n",
              "      <td>Funny Girl Designs</td>\n",
              "      <td>Women</td>\n",
              "      <td>Accessories(Set of 4) 2.5 Glitter Cotton Stret...</td>\n",
              "      <td>accessoriesset glitter cotton stretch headband...</td>\n",
              "      <td>accessoriesset glitter cotton stretch headband...</td>\n",
              "      <td>accessoriesset glitter cotton stretch headband...</td>\n",
              "    </tr>\n",
              "    <tr>\n",
              "      <th>4</th>\n",
              "      <td>Accessories</td>\n",
              "      <td>1 1/2 In. Original Perry Suspenders</td>\n",
              "      <td>Perry</td>\n",
              "      <td>Men</td>\n",
              "      <td>Accessories1 1/2 In. Original Perry Suspenders...</td>\n",
              "      <td>accessories original perry suspendersperrymen</td>\n",
              "      <td>accessori origin perri suspendersperrymen</td>\n",
              "      <td>accessory original perry suspendersperrymen</td>\n",
              "    </tr>\n",
              "  </tbody>\n",
              "</table>\n",
              "</div>"
            ],
            "text/plain": [
              "  product_category                                      product_name   \n",
              "0      Accessories                            (ONE) 1 Satin Headband  \\\n",
              "1      Accessories   (One) CHEER Rhinestone Studded Stretch Headband   \n",
              "2      Accessories  (Set of 3) Leopard Animal Print Stretch Headband   \n",
              "3      Accessories   (Set of 4) 2.5 Glitter Cotton Stretch Headbands   \n",
              "4      Accessories               1 1/2 In. Original Perry Suspenders   \n",
              "\n",
              "        product_brand product_department   \n",
              "0  Funny Girl Designs              Women  \\\n",
              "1  Funny Girl Designs              Women   \n",
              "2  Funny Girl Designs              Women   \n",
              "3  Funny Girl Designs              Women   \n",
              "4               Perry                Men   \n",
              "\n",
              "                                            gabungan   \n",
              "0  Accessories(ONE) 1 Satin HeadbandFunny Girl De...  \\\n",
              "1  Accessories(One) CHEER Rhinestone Studded Stre...   \n",
              "2  Accessories(Set of 3) Leopard Animal Print Str...   \n",
              "3  Accessories(Set of 4) 2.5 Glitter Cotton Stret...   \n",
              "4  Accessories1 1/2 In. Original Perry Suspenders...   \n",
              "\n",
              "                                          text_clean   \n",
              "0  accessoriesone satin headbandfunny girl design...  \\\n",
              "1  accessoriesone cheer rhinestone studded stretc...   \n",
              "2  accessoriesset leopard animal print stretch he...   \n",
              "3  accessoriesset glitter cotton stretch headband...   \n",
              "4      accessories original perry suspendersperrymen   \n",
              "\n",
              "                                                stem   \n",
              "0  accessorieson satin headbandfunni girl designs...  \\\n",
              "1  accessorieson cheer rhineston stud stretch hea...   \n",
              "2  accessoriesset leopard anim print stretch head...   \n",
              "3  accessoriesset glitter cotton stretch headband...   \n",
              "4          accessori origin perri suspendersperrymen   \n",
              "\n",
              "                                           lemmatize  \n",
              "0  accessoriesone satin headbandfunny girl design...  \n",
              "1  accessoriesone cheer rhinestone studded stretc...  \n",
              "2  accessoriesset leopard animal print stretch he...  \n",
              "3  accessoriesset glitter cotton stretch headband...  \n",
              "4        accessory original perry suspendersperrymen  "
            ]
          },
          "execution_count": 27,
          "metadata": {},
          "output_type": "execute_result"
        }
      ],
      "source": [
        "df.head()"
      ]
    },
    {
      "cell_type": "code",
      "execution_count": 57,
      "metadata": {
        "colab": {
          "base_uri": "https://localhost:8080/"
        },
        "id": "551DF_FKcPGO",
        "outputId": "3a58ab1e-cd6f-4b0b-cacc-9636cd70af88"
      },
      "outputs": [],
      "source": [
        "from fuzzywuzzy import process  # Import fuzzy matching library\n",
        "\n",
        "def recommend_products(input_product_name, df, cosine_sim):\n",
        "    # Gunakan fuzzy matching untuk menemukan nama produk terdekat\n",
        "    closest_match = process.extractOne(input_product_name, df['lemmatize'].tolist())\n",
        "    if closest_match:\n",
        "        product_name = closest_match[0]  # Ambil nama produk terdekat\n",
        "\n",
        "        # Ambil index dari produk yang cocok dengan nama produk terdekat\n",
        "        idx = df[df['lemmatize'] == product_name].index[0]\n",
        "\n",
        "        # Ambil skor kesamaan untuk produk ini dengan semua produk lain\n",
        "        sim_scores = list(enumerate(cosine_sim[idx]))\n",
        "\n",
        "        # Urutkan produk berdasarkan skor kesamaan (menurun) dan kecualikan produk input itu sendiri\n",
        "        sim_scores = sorted(sim_scores, key=lambda x: x[1], reverse=True)\n",
        "        sim_scores = sim_scores[1:4]  # Ambil 3 produk paling mirip\n",
        "\n",
        "        # Ambil index produk\n",
        "        product_indices = [i[0] for i in sim_scores]\n",
        "\n",
        "        # Kembalikan 3 produk paling mirip\n",
        "        print(f\"Input product: '{input_product_name}' matched with '{product_name}'\")\n",
        "        return df.iloc[product_indices][['product_category', 'product_name', 'product_brand', 'product_department']]\n",
        "    else:\n",
        "        return \"No matching product found.\""
      ]
    },
    {
      "cell_type": "code",
      "execution_count": 59,
      "metadata": {
        "colab": {
          "base_uri": "https://localhost:8080/",
          "height": 161
        },
        "id": "vdrbvQgmg3w0",
        "outputId": "bf447b3e-fd53-47d2-8782-78dc1c08c0db"
      },
      "outputs": [
        {
          "name": "stdout",
          "output_type": "stream",
          "text": [
            "Input product: 'women levis' matched with 'jeanslevi woman plus size flare jeanleviswomen'\n"
          ]
        },
        {
          "data": {
            "text/html": [
              "<div>\n",
              "<style scoped>\n",
              "    .dataframe tbody tr th:only-of-type {\n",
              "        vertical-align: middle;\n",
              "    }\n",
              "\n",
              "    .dataframe tbody tr th {\n",
              "        vertical-align: top;\n",
              "    }\n",
              "\n",
              "    .dataframe thead th {\n",
              "        text-align: right;\n",
              "    }\n",
              "</style>\n",
              "<table border=\"1\" class=\"dataframe\">\n",
              "  <thead>\n",
              "    <tr style=\"text-align: right;\">\n",
              "      <th></th>\n",
              "      <th>product_category</th>\n",
              "      <th>product_name</th>\n",
              "      <th>product_brand</th>\n",
              "      <th>product_department</th>\n",
              "    </tr>\n",
              "  </thead>\n",
              "  <tbody>\n",
              "    <tr>\n",
              "      <th>15463</th>\n",
              "      <td>Plus</td>\n",
              "      <td>Levi Women's Plus Size Flare Jean</td>\n",
              "      <td>Levi's</td>\n",
              "      <td>Women</td>\n",
              "    </tr>\n",
              "    <tr>\n",
              "      <th>9628</th>\n",
              "      <td>Jeans</td>\n",
              "      <td>Levi's Juniors Geo Super Flare Jean</td>\n",
              "      <td>Levi's</td>\n",
              "      <td>Women</td>\n",
              "    </tr>\n",
              "    <tr>\n",
              "      <th>9720</th>\n",
              "      <td>Jeans</td>\n",
              "      <td>Levi's Women's Petite Skinny Jean</td>\n",
              "      <td>Levi's</td>\n",
              "      <td>Women</td>\n",
              "    </tr>\n",
              "  </tbody>\n",
              "</table>\n",
              "</div>"
            ],
            "text/plain": [
              "      product_category                         product_name product_brand   \n",
              "15463             Plus    Levi Women's Plus Size Flare Jean        Levi's  \\\n",
              "9628             Jeans  Levi's Juniors Geo Super Flare Jean        Levi's   \n",
              "9720             Jeans    Levi's Women's Petite Skinny Jean        Levi's   \n",
              "\n",
              "      product_department  \n",
              "15463              Women  \n",
              "9628               Women  \n",
              "9720               Women  "
            ]
          },
          "execution_count": 59,
          "metadata": {},
          "output_type": "execute_result"
        }
      ],
      "source": [
        "# Example usage\n",
        "recommendations = recommend_products('women levis', df, cosine_sim)\n",
        "recommendations"
      ]
    },
    {
      "cell_type": "code",
      "execution_count": 33,
      "metadata": {
        "id": "80dbm_6rhJYQ"
      },
      "outputs": [],
      "source": [
        "# import joblib\n",
        "# from scipy import sparse\n",
        "\n",
        "# # Save the TF-IDF Vectorizer and Matrix\n",
        "# joblib.dump(tf, 'tfidf_vectorizer.pkl')\n",
        "# sparse.save_npz('tfidf_matrix.npz', tfidf_matrix)"
      ]
    },
    {
      "cell_type": "code",
      "execution_count": null,
      "metadata": {},
      "outputs": [],
      "source": []
    }
  ],
  "metadata": {
    "colab": {
      "provenance": []
    },
    "kernelspec": {
      "display_name": "Python 3",
      "name": "python3"
    },
    "language_info": {
      "codemirror_mode": {
        "name": "ipython",
        "version": 3
      },
      "file_extension": ".py",
      "mimetype": "text/x-python",
      "name": "python",
      "nbconvert_exporter": "python",
      "pygments_lexer": "ipython3",
      "version": "3.11.3"
    }
  },
  "nbformat": 4,
  "nbformat_minor": 0
}
